{
 "cells": [
  {
   "cell_type": "code",
   "execution_count": 17,
   "metadata": {},
   "outputs": [
    {
     "ename": "SyntaxError",
     "evalue": "invalid decimal literal (392385440.py, line 5)",
     "output_type": "error",
     "traceback": [
      "\u001b[1;36m  Cell \u001b[1;32mIn[17], line 5\u001b[1;36m\u001b[0m\n\u001b[1;33m    1usage\u001b[0m\n\u001b[1;37m    ^\u001b[0m\n\u001b[1;31mSyntaxError\u001b[0m\u001b[1;31m:\u001b[0m invalid decimal literal\n"
     ]
    }
   ],
   "source": [
    "class MyClass:\n",
    "    def __init__(self):\n",
    "        self.public_variable = 10\n",
    "        self.__private_var1able = 20\n",
    "    1usage\n",
    "    def public_method(self):\n",
    "        print(\"This is a public method.\")\n",
    "    def __private_method(seif):\n",
    "        print(\"This 1s a private method.\")\n",
    "        \n",
    "obj = MyClass()\n",
    "print(obj. public_variable)\n",
    "Accessing a public attribute\n",
    "obj.public_method()\n",
    "pOint(obj.__private_variable)\n",
    "obj.__private_method()"
   ]
  },
  {
   "cell_type": "markdown",
   "metadata": {},
   "source": [
    "1. Accessing private variables and methods using get and set method\n",
    "2. Demonstrate name mangling to access private members\n",
    "3. Create an employee class by defining employee atributessuch as name and salary as an instance variable and implemening behaviour using work() and show() instance methods. Make salary as private\n",
    "salary"
   ]
  },
  {
   "cell_type": "code",
   "execution_count": null,
   "metadata": {},
   "outputs": [
    {
     "name": "stdout",
     "output_type": "stream",
     "text": [
      "21\n",
      "21\n"
     ]
    }
   ],
   "source": [
    "class Geek: \n",
    "    def __init__(self, age = 0): \n",
    "         self._age = age \n",
    "    def get_age(self): \n",
    "        return self._age \n",
    "    def set_age(self, x): \n",
    "        self._age = x   \n",
    "x = Geek() \n",
    "x.set_age(21) \n",
    "print(x.get_age()) \n",
    "print(x._age)"
   ]
  },
  {
   "cell_type": "code",
   "execution_count": 18,
   "metadata": {},
   "outputs": [
    {
     "name": "stdout",
     "output_type": "stream",
     "text": [
      "Employee Name: ABC\n",
      "ABC is on work.\n",
      "Employee Details:\n",
      "Name: ABC\n",
      "Salary: 100000\n"
     ]
    }
   ],
   "source": [
    "class Employee:\n",
    "    def __init__(self, name, salary):\n",
    "        self.name = name\n",
    "        self.__salary = salary\n",
    "    def work(self):\n",
    "        print(f\"{self.name} is on work.\")\n",
    "    def show(self):\n",
    "        print(f\"Employee Details:\\nName: {self.name}\\nSalary: {self.__salary}\")\n",
    "employee1 = Employee(\"ABC\", 100000)\n",
    "print(\"Employee Name:\", employee1.name)\n",
    "employee1.work()\n",
    "employee1.show()"
   ]
  },
  {
   "cell_type": "code",
   "execution_count": 19,
   "metadata": {},
   "outputs": [
    {
     "name": "stdout",
     "output_type": "stream",
     "text": [
      "In parent class\n",
      "In Child class\n"
     ]
    }
   ],
   "source": [
    "class Map: \n",
    "\tdef __init__(self): \n",
    "\t\tself.__geek() \n",
    "\t\t\n",
    "\tdef geek(self): \n",
    "\t\tprint(\"In parent class\") \n",
    "\t\n",
    "\t__geek = geek\t \n",
    "\t\n",
    "class MapSubclass(Map): \n",
    "\t\t\n",
    "\tdef geek(self):\t\t \n",
    "\t\tprint(\"In Child class\") \n",
    "\t\t\n",
    "obj = MapSubclass() \n",
    "obj.geek() \n"
   ]
  },
  {
   "cell_type": "code",
   "execution_count": null,
   "metadata": {},
   "outputs": [],
   "source": []
  }
 ],
 "metadata": {
  "kernelspec": {
   "display_name": "Python 3",
   "language": "python",
   "name": "python3"
  },
  "language_info": {
   "codemirror_mode": {
    "name": "ipython",
    "version": 3
   },
   "file_extension": ".py",
   "mimetype": "text/x-python",
   "name": "python",
   "nbconvert_exporter": "python",
   "pygments_lexer": "ipython3",
   "version": "3.12.0"
  }
 },
 "nbformat": 4,
 "nbformat_minor": 2
}
