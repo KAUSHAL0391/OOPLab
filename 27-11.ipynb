{
 "cells": [
  {
   "cell_type": "code",
   "execution_count": 20,
   "metadata": {},
   "outputs": [
    {
     "ename": "NameError",
     "evalue": "name 'self' is not defined",
     "output_type": "error",
     "traceback": [
      "\u001b[1;31m---------------------------------------------------------------------------\u001b[0m",
      "\u001b[1;31mNameError\u001b[0m                                 Traceback (most recent call last)",
      "\u001b[1;32mc:\\Users\\Admin\\Desktop\\1BM21AI080\\OOPLab\\27-11.ipynb Cell 1\u001b[0m line \u001b[0;36m1\n\u001b[1;32m----> <a href='vscode-notebook-cell:/c%3A/Users/Admin/Desktop/1BM21AI080/OOPLab/27-11.ipynb#W0sZmlsZQ%3D%3D?line=0'>1</a>\u001b[0m \u001b[39mclass\u001b[39;49;00m \u001b[39mBMS\u001b[39;49;00m:\n\u001b[0;32m      <a href='vscode-notebook-cell:/c%3A/Users/Admin/Desktop/1BM21AI080/OOPLab/27-11.ipynb#W0sZmlsZQ%3D%3D?line=1'>2</a>\u001b[0m     \u001b[39mdef\u001b[39;49;00m \u001b[39mdisplay\u001b[39;49m(\u001b[39mself\u001b[39;49m , collage):\n\u001b[0;32m      <a href='vscode-notebook-cell:/c%3A/Users/Admin/Desktop/1BM21AI080/OOPLab/27-11.ipynb#W0sZmlsZQ%3D%3D?line=2'>3</a>\u001b[0m         \u001b[39mself\u001b[39;49m\u001b[39m.\u001b[39;49mcollage\u001b[39m=\u001b[39;49m\u001b[39m'\u001b[39;49m\u001b[39mBMSCE\u001b[39;49m\u001b[39m'\u001b[39;49m\n",
      "\u001b[1;32mc:\\Users\\Admin\\Desktop\\1BM21AI080\\OOPLab\\27-11.ipynb Cell 1\u001b[0m line \u001b[0;36m4\n\u001b[0;32m      <a href='vscode-notebook-cell:/c%3A/Users/Admin/Desktop/1BM21AI080/OOPLab/27-11.ipynb#W0sZmlsZQ%3D%3D?line=1'>2</a>\u001b[0m \u001b[39mdef\u001b[39;00m \u001b[39mdisplay\u001b[39m(\u001b[39mself\u001b[39m , collage):\n\u001b[0;32m      <a href='vscode-notebook-cell:/c%3A/Users/Admin/Desktop/1BM21AI080/OOPLab/27-11.ipynb#W0sZmlsZQ%3D%3D?line=2'>3</a>\u001b[0m     \u001b[39mself\u001b[39m\u001b[39m.\u001b[39mcollage\u001b[39m=\u001b[39m\u001b[39m'\u001b[39m\u001b[39mBMSCE\u001b[39m\u001b[39m'\u001b[39m\n\u001b[1;32m----> <a href='vscode-notebook-cell:/c%3A/Users/Admin/Desktop/1BM21AI080/OOPLab/27-11.ipynb#W0sZmlsZQ%3D%3D?line=3'>4</a>\u001b[0m \u001b[39mprint\u001b[39m(\u001b[39mself\u001b[39;49m\u001b[39m.\u001b[39mcollage)\n",
      "\u001b[1;31mNameError\u001b[0m: name 'self' is not defined"
     ]
    }
   ],
   "source": [
    "class BMS:\n",
    "    \n",
    "    def display(self , collage):\n",
    "        self.collage='BMSCE'\n",
    "    print(self.collage)\n",
    "\n",
    "def add (n1,n2):\n",
    "    print(n1+n2)\n",
    "\n",
    "b1 = BMS()\n",
    "b1.display\n",
    "b1.add(10,20)"
   ]
  },
  {
   "cell_type": "code",
   "execution_count": 19,
   "metadata": {},
   "outputs": [
    {
     "name": "stdout",
     "output_type": "stream",
     "text": [
      "12345\n",
      "11\n"
     ]
    }
   ],
   "source": [
    "class calculator:\n",
    "    def __init__(self , version):\n",
    "        self.version = version\n",
    "    \n",
    "    def show_ver(self):\n",
    "        print(self.version)\n",
    "\n",
    "def add(x,y):\n",
    "    return x + y\n",
    "\n",
    "class Main:\n",
    "    b1=calculator(\"12345\")\n",
    "\n",
    "    b1.show_ver()\n",
    "\n",
    "    x=add(5,6)\n",
    "\n",
    "    print(x)\n",
    "\n",
    "\n"
   ]
  },
  {
   "cell_type": "code",
   "execution_count": 24,
   "metadata": {},
   "outputs": [
    {
     "name": "stdout",
     "output_type": "stream",
     "text": [
      "k\n",
      "20\n",
      "d\n",
      "34\n",
      "2\n"
     ]
    }
   ],
   "source": [
    "class student:\n",
    "    counter = 0\n",
    "\n",
    "    def __init__(self, n, m):\n",
    "        self.name = n\n",
    "        self.marks = m\n",
    "        student.counter += 1\n",
    "\n",
    "    def disp(self):\n",
    "        print(self.name)\n",
    "        print(self.marks)\n",
    "\n",
    "    @classmethod\n",
    "    def obj_count(cls):\n",
    "        return cls.counter\n",
    "\n",
    "class main:\n",
    "    s1 = student('k', 20)\n",
    "    s2 = student('d', 34)\n",
    "    s1.disp()\n",
    "    s2.disp()\n",
    "\n",
    "print(student.obj_count())\n"
   ]
  },
  {
   "cell_type": "code",
   "execution_count": 28,
   "metadata": {},
   "outputs": [
    {
     "name": "stdout",
     "output_type": "stream",
     "text": [
      "The area of a circle with radius 7 is: 153.93791\n"
     ]
    }
   ],
   "source": [
    "calc_area = lambda radius: 3.14159 * radius ** 2\n",
    "\n",
    "radius = int(input(\"Enter the radius\"))\n",
    "area = calc_area(radius)\n",
    "print(f\"The area of a circle with radius {radius} is: {area}\")"
   ]
  },
  {
   "cell_type": "code",
   "execution_count": 29,
   "metadata": {},
   "outputs": [
    {
     "name": "stdout",
     "output_type": "stream",
     "text": [
      "Complex Number 1:\n",
      "3 + 4i\n",
      "Complex Number 2:\n",
      "1 - 2i\n",
      "Sum:\n",
      "4 + 2i\n"
     ]
    }
   ],
   "source": [
    "class ComplexNumber:\n",
    "    def __init__(self, real, imag):\n",
    "        self.real = real\n",
    "        self.imag = imag\n",
    "\n",
    "    def __add__(self, other):\n",
    "        return ComplexNumber(self.real + other.real, self.imag + other.imag)\n",
    "\n",
    "    def display(self):\n",
    "        if self.imag >= 0:\n",
    "            sign = '+'\n",
    "        else:\n",
    "            sign = '-'\n",
    "        print(f\"{self.real} {sign} {abs(self.imag)}i\")\n",
    "\n",
    "complex1 = ComplexNumber(3, 4)\n",
    "complex2 = ComplexNumber(1, -2)\n",
    "\n",
    "result = complex1 + complex2\n",
    "\n",
    "print(\"Complex Number 1:\")\n",
    "complex1.display()\n",
    "print(\"Complex Number 2:\")\n",
    "complex2.display()\n",
    "print(\"Sum:\")\n",
    "result.display()\n"
   ]
  },
  {
   "cell_type": "code",
   "execution_count": 30,
   "metadata": {},
   "outputs": [
    {
     "name": "stdout",
     "output_type": "stream",
     "text": [
      "\n",
      " jkhsaghgsdifh\n",
      "\n",
      " sohfgsoihfg\n"
     ]
    }
   ],
   "source": [
    "class Song:\n",
    "    def __init__(self, lyrics):\n",
    "        self.lyrics = lyrics\n",
    "\n",
    "    def sing_me_a_song(self):\n",
    "        for line in self.lyrics:\n",
    "            print(\"\\n\", line)\n",
    "happy_bday = Song([\"jkhsaghgsdifh\",\"sohfgsoihfg\"])\n",
    "\n",
    "\n",
    "happy_bday.sing_me_a_song()\n",
    "from datetime import datetime"
   ]
  },
  {
   "cell_type": "code",
   "execution_count": 32,
   "metadata": {},
   "outputs": [
    {
     "name": "stdout",
     "output_type": "stream",
     "text": [
      "woof wooof \n",
      "pranshu\n",
      "The age in dog years is: 147\n"
     ]
    }
   ],
   "source": [
    "class Dog:\n",
    "    def __init__(self, name, size, breed, dob):\n",
    "        self.name = name\n",
    "        self.size = size\n",
    "        self.breed = breed\n",
    "        self.dob = dob\n",
    "\n",
    "    def bark(self):\n",
    "        print(\"woof wooof \")\n",
    "\n",
    "    def get_name(self):\n",
    "        print(self.name)\n",
    "\n",
    "    def set_name(self):\n",
    "        x = input(\"Enter the name: \")\n",
    "        self.name = x\n",
    "\n",
    "    def dog_years(self):\n",
    "        y = self.calculate_age()  \n",
    "        x = 7 * y\n",
    "        print(\"The age in dog years is:\", x)\n",
    "\n",
    "    def calculate_age(self):\n",
    "        today = datetime.now()\n",
    "        dob_date = datetime.strptime(self.dob, '%Y-%m-%d')\n",
    "        age = today.year - dob_date.year - ((today.month, today.day) < (dob_date.month, dob_date.day))\n",
    "        return age\n",
    "\n",
    "\n",
    "\n",
    "d1 = Dog(name=\"pranshu\", size=36, breed=\"aroa\", dob=\"2002-10-01\")\n",
    "\n",
    "d1.bark()\n",
    "d1.get_name()\n",
    "d1.set_name()\n",
    "d1.dog_years()"
   ]
  },
  {
   "cell_type": "code",
   "execution_count": 33,
   "metadata": {},
   "outputs": [
    {
     "name": "stdout",
     "output_type": "stream",
     "text": [
      "isZero: False\n",
      "isPositive: True\n",
      "isNegative: False\n",
      "isOdd: True\n",
      "isEven: False\n",
      "isPrime: False\n",
      "isArmstrong: False\n",
      "getFactorial: 15511210043330985984000000\n",
      "getSqrt: 5.0\n",
      "getSqr: 625.0\n",
      "sumDigits: 7\n",
      "getReverse: 52.0\n"
     ]
    }
   ],
   "source": [
    "import math\n",
    "\n",
    "class Number:\n",
    "    def __init__(self, value):\n",
    "        self.value = float(value)\n",
    "\n",
    "    def isZero(self):\n",
    "        return self.value == 0\n",
    "\n",
    "    def isPositive(self):\n",
    "        return self.value > 0\n",
    "\n",
    "    def isNegative(self):\n",
    "        return self.value < 0\n",
    "\n",
    "    def isOdd(self):\n",
    "        return self.value % 2 != 0\n",
    "\n",
    "    def isEven(self):\n",
    "        return self.value % 2 == 0\n",
    "\n",
    "    def isPrime(self):\n",
    "        if self.value < 2:\n",
    "            return False\n",
    "        for i in range(2, int(math.sqrt(self.value)) + 1):\n",
    "            if self.value % i == 0:\n",
    "                return False\n",
    "        return True\n",
    "\n",
    "    def isArmstrong(self):\n",
    "        temp = self.value\n",
    "        order = int(math.log10(temp)) + 1\n",
    "        result = 0\n",
    "        while temp > 0:\n",
    "            digit = temp % 10\n",
    "            result += digit ** order\n",
    "            temp //= 10\n",
    "        return result == self.value\n",
    "\n",
    "    def getFactorial(self):\n",
    "        if self.value < 0:\n",
    "            return \"Undefined (Factorial is not defined for negative numbers)\"\n",
    "        elif self.value == 0:\n",
    "            return 1\n",
    "        else:\n",
    "            return math.factorial(int(self.value))\n",
    "\n",
    "    def getSqrt(self):\n",
    "        if self.value < 0:\n",
    "            return \"Undefined (Square root is not defined for negative numbers)\"\n",
    "        else:\n",
    "            return math.sqrt(self.value)\n",
    "\n",
    "    def getSqr(self):\n",
    "        return self.value ** 2\n",
    "\n",
    "    def sumDigits(self):\n",
    "        return sum(int(digit) for digit in str(abs(int(self.value))))\n",
    "\n",
    "    def getReverse(self):\n",
    "        return float(str(abs(int(self.value)))[::-1]) * (-1 if self.value < 0 else 1)\n",
    "\n",
    "def main():\n",
    "    num = Number(25)\n",
    "\n",
    "    print(f\"isZero: {num.isZero()}\")\n",
    "    print(f\"isPositive: {num.isPositive()}\")\n",
    "    print(f\"isNegative: {num.isNegative()}\")\n",
    "    print(f\"isOdd: {num.isOdd()}\")\n",
    "    print(f\"isEven: {num.isEven()}\")\n",
    "    print(f\"isPrime: {num.isPrime()}\")\n",
    "    print(f\"isArmstrong: {num.isArmstrong()}\")\n",
    "    print(f\"getFactorial: {num.getFactorial()}\")\n",
    "    print(f\"getSqrt: {num.getSqrt()}\")\n",
    "    print(f\"getSqr: {num.getSqr()}\")\n",
    "    print(f\"sumDigits: {num.sumDigits()}\")\n",
    "    print(f\"getReverse: {num.getReverse()}\")\n",
    "\n",
    "if __name__ == \"__main__\":\n",
    "    main()"
   ]
  }
 ],
 "metadata": {
  "kernelspec": {
   "display_name": "Python 3",
   "language": "python",
   "name": "python3"
  },
  "language_info": {
   "codemirror_mode": {
    "name": "ipython",
    "version": 3
   },
   "file_extension": ".py",
   "mimetype": "text/x-python",
   "name": "python",
   "nbconvert_exporter": "python",
   "pygments_lexer": "ipython3",
   "version": "3.12.0"
  }
 },
 "nbformat": 4,
 "nbformat_minor": 2
}
