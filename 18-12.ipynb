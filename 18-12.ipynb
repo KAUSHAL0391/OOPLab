{
 "cells": [
  {
   "cell_type": "code",
   "execution_count": 10,
   "metadata": {},
   "outputs": [
    {
     "ename": "TypeError",
     "evalue": "Can't instantiate abstract class computer without an implementation for abstract method 'disp'",
     "output_type": "error",
     "traceback": [
      "\u001b[1;31m---------------------------------------------------------------------------\u001b[0m",
      "\u001b[1;31mTypeError\u001b[0m                                 Traceback (most recent call last)",
      "Cell \u001b[1;32mIn[10], line 8\u001b[0m\n\u001b[0;32m      6\u001b[0m     \u001b[38;5;28;01mdef\u001b[39;00m \u001b[38;5;21mdisplay1\u001b[39m(\u001b[38;5;28mself\u001b[39m):\n\u001b[0;32m      7\u001b[0m         \u001b[38;5;28mprint\u001b[39m(\u001b[38;5;124m\"\u001b[39m\u001b[38;5;124mWelcome to BMSCE\u001b[39m\u001b[38;5;124m\"\u001b[39m)\n\u001b[1;32m----> 8\u001b[0m comp1\u001b[38;5;241m=\u001b[39m\u001b[43mcomputer\u001b[49m\u001b[43m(\u001b[49m\u001b[43m)\u001b[49m\n\u001b[0;32m      9\u001b[0m comp1\u001b[38;5;241m.\u001b[39mdisp()\n\u001b[0;32m     10\u001b[0m comp1\u001b[38;5;241m.\u001b[39mdisp1()\n",
      "\u001b[1;31mTypeError\u001b[0m: Can't instantiate abstract class computer without an implementation for abstract method 'disp'"
     ]
    }
   ],
   "source": [
    "from abc import ABC , abstractmethod\n",
    "class computer(ABC):\n",
    "    @abstractmethod\n",
    "    def disp(self):\n",
    "        pass\n",
    "    def display1(self):\n",
    "        print(\"Welcome to BMSCE\")\n",
    "comp1=computer()\n",
    "comp1.disp()\n",
    "comp1.disp1()"
   ]
  },
  {
   "cell_type": "code",
   "execution_count": 11,
   "metadata": {},
   "outputs": [
    {
     "name": "stdout",
     "output_type": "stream",
     "text": [
      "Welcome to BMSCE\n"
     ]
    }
   ],
   "source": [
    "\n",
    "class laptop(computer):\n",
    "    def disp(self):\n",
    "        print(\"Welcome to BMSCE\")\n",
    "\n",
    "l1=laptop()\n",
    "l1.disp()"
   ]
  },
  {
   "cell_type": "code",
   "execution_count": 15,
   "metadata": {},
   "outputs": [
    {
     "name": "stdout",
     "output_type": "stream",
     "text": [
      "2\n",
      "KickStart\n",
      "4\n",
      "Selfstart\n",
      "6\n",
      "selfStart\n"
     ]
    }
   ],
   "source": [
    "from abc import ABC , abstractmethod\n",
    "class vehicle(ABC):\n",
    "    @abstractmethod\n",
    "    def noofwheel(self):\n",
    "        pass\n",
    "    def start(self):\n",
    "        pass\n",
    "\n",
    "class bike(vehicle):\n",
    "    def noofwheel(self):\n",
    "        print(\"2\")\n",
    "    def start(self):\n",
    "        print(\"KickStart\")\n",
    "\n",
    "class car(vehicle):\n",
    "    def noofwheel(self):\n",
    "        print(\"4\")\n",
    "    def start(self):\n",
    "        print(\"SelfStart\")\n",
    "    \n",
    "class bus(vehicle):\n",
    "    def noofwheel(self):\n",
    "        print(\"6\")\n",
    "    def start(self):\n",
    "        print(\"SelfStart\")\n",
    "\n",
    "b1=bike()\n",
    "b1.noofwheel()\n",
    "b1.start()\n",
    "\n",
    "c1=car()\n",
    "c1.noofwheel()\n",
    "c1.start()\n",
    "\n",
    "a1=bus()\n",
    "a1.noofwheel()\n",
    "a1.start()"
   ]
  },
  {
   "cell_type": "code",
   "execution_count": null,
   "metadata": {},
   "outputs": [],
   "source": []
  }
 ],
 "metadata": {
  "kernelspec": {
   "display_name": "Python 3",
   "language": "python",
   "name": "python3"
  },
  "language_info": {
   "codemirror_mode": {
    "name": "ipython",
    "version": 3
   },
   "file_extension": ".py",
   "mimetype": "text/x-python",
   "name": "python",
   "nbconvert_exporter": "python",
   "pygments_lexer": "ipython3",
   "version": "3.12.0"
  }
 },
 "nbformat": 4,
 "nbformat_minor": 2
}
