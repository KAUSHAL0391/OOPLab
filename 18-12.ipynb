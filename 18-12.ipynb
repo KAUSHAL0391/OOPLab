{
 "cells": [
  {
   "cell_type": "code",
   "execution_count": 10,
   "metadata": {},
   "outputs": [
    {
     "ename": "TypeError",
     "evalue": "Can't instantiate abstract class computer without an implementation for abstract method 'disp'",
     "output_type": "error",
     "traceback": [
      "\u001b[1;31m---------------------------------------------------------------------------\u001b[0m",
      "\u001b[1;31mTypeError\u001b[0m                                 Traceback (most recent call last)",
      "Cell \u001b[1;32mIn[10], line 8\u001b[0m\n\u001b[0;32m      6\u001b[0m     \u001b[38;5;28;01mdef\u001b[39;00m \u001b[38;5;21mdisplay1\u001b[39m(\u001b[38;5;28mself\u001b[39m):\n\u001b[0;32m      7\u001b[0m         \u001b[38;5;28mprint\u001b[39m(\u001b[38;5;124m\"\u001b[39m\u001b[38;5;124mWelcome to BMSCE\u001b[39m\u001b[38;5;124m\"\u001b[39m)\n\u001b[1;32m----> 8\u001b[0m comp1\u001b[38;5;241m=\u001b[39m\u001b[43mcomputer\u001b[49m\u001b[43m(\u001b[49m\u001b[43m)\u001b[49m\n\u001b[0;32m      9\u001b[0m comp1\u001b[38;5;241m.\u001b[39mdisp()\n\u001b[0;32m     10\u001b[0m comp1\u001b[38;5;241m.\u001b[39mdisp1()\n",
      "\u001b[1;31mTypeError\u001b[0m: Can't instantiate abstract class computer without an implementation for abstract method 'disp'"
     ]
    }
   ],
   "source": [
    "from abc import ABC , abstractmethod\n",
    "class computer(ABC):\n",
    "    @abstractmethod\n",
    "    def disp(self):\n",
    "        pass\n",
    "    def display1(self):\n",
    "        print(\"Welcome to BMSCE\")\n",
    "comp1=computer()\n",
    "comp1.disp()\n",
    "comp1.disp1()"
   ]
  },
  {
   "cell_type": "code",
   "execution_count": 11,
   "metadata": {},
   "outputs": [
    {
     "name": "stdout",
     "output_type": "stream",
     "text": [
      "Welcome to BMSCE\n"
     ]
    }
   ],
   "source": [
    "\n",
    "class laptop(computer):\n",
    "    def disp(self):\n",
    "        print(\"Welcome to BMSCE\")\n",
    "\n",
    "l1=laptop()\n",
    "l1.disp()"
   ]
  },
  {
   "cell_type": "code",
   "execution_count": 17,
   "metadata": {},
   "outputs": [
    {
     "name": "stdout",
     "output_type": "stream",
     "text": [
      "Bike\n",
      "2\n",
      "KickStart\n",
      "Car\n",
      "4\n",
      "SelfStart\n",
      "Bus\n",
      "6\n",
      "SelfStart\n"
     ]
    }
   ],
   "source": [
    "from abc import ABC , abstractmethod\n",
    "class vehicle(ABC):\n",
    "    @abstractmethod\n",
    "    def nameofvehicle(self):\n",
    "        pass\n",
    "    def noofwheel(self):\n",
    "        pass\n",
    "    def start(self):\n",
    "        pass\n",
    "\n",
    "class bike(vehicle):\n",
    "    def nameofvehicle(self):\n",
    "        print(\"Bike\")\n",
    "    def noofwheel(self):\n",
    "        print(\"2\")\n",
    "    def start(self):\n",
    "        print(\"KickStart\")\n",
    "\n",
    "class car(vehicle):\n",
    "    def nameofvehicle(self):\n",
    "        print(\"Car\")\n",
    "    def noofwheel(self):\n",
    "        print(\"4\")\n",
    "    def start(self):\n",
    "        print(\"SelfStart\")\n",
    "    \n",
    "class bus(vehicle):\n",
    "    def nameofvehicle(self):\n",
    "        print(\"Bus\")\n",
    "    def noofwheel(self):\n",
    "        print(\"6\")\n",
    "    def start(self):\n",
    "        print(\"SelfStart\")\n",
    "\n",
    "b1=bike()\n",
    "b1.nameofvehicle()\n",
    "b1.noofwheel()\n",
    "b1.start()\n",
    "\n",
    "c1=car()\n",
    "c1.nameofvehicle()\n",
    "c1.noofwheel()\n",
    "c1.start()\n",
    "\n",
    "a1=bus()\n",
    "a1.nameofvehicle()\n",
    "a1.noofwheel()\n",
    "a1.start()"
   ]
  },
  {
   "cell_type": "code",
   "execution_count": 23,
   "metadata": {},
   "outputs": [
    {
     "name": "stdout",
     "output_type": "stream",
     "text": [
      "Balance: 0\n",
      "Deposited $500. Updated balance: $500\n",
      "Withdraw $200. Updated balance: $300\n",
      "Invalid balance to withdrawal.\n",
      "Deposited $300. Updated balance: $600\n",
      "Balance: 600\n"
     ]
    }
   ],
   "source": [
    "class CreditCard:\n",
    "    def __init__(self, limit):\n",
    "        self.__limit = limit\n",
    "        self.__balance = 0\n",
    "\n",
    "    def get_balance(self):\n",
    "        return self.__balance\n",
    "\n",
    "    def deposit(self, amount):\n",
    "        if amount > 0:\n",
    "            self.__balance += amount\n",
    "            print(f\"Deposited ${amount}. Updated balance: ${self.__balance}\")\n",
    "        else:\n",
    "            print(\"Invalid deposit amount.\")\n",
    "\n",
    "    def withdraw(self, amount):\n",
    "        if amount > 0 and amount <= self.__balance and amount <= self.__limit:\n",
    "            self.__balance -= amount\n",
    "            print(f\"Withdraw ${amount}. Updated balance: ${self.__balance}\")\n",
    "        elif amount <= 0:\n",
    "            print(\"Invalid withdrawal amount.\")\n",
    "        elif amount > self.__balance:\n",
    "            print(\"Invalid balance to withdrawal.\")\n",
    "        else:\n",
    "            print(\"Withdrawal amount is more than credit limit.\")\n",
    "\n",
    "credit_card = CreditCard(limit=1000)\n",
    "print(\"Balance:\", credit_card.get_balance())\n",
    "\n",
    "credit_card.deposit(500)\n",
    "credit_card.withdraw(200)\n",
    "credit_card.withdraw(800)\n",
    "credit_card.deposit(300)\n",
    "\n",
    "print(\"Balance:\", credit_card.get_balance())"
   ]
  },
  {
   "cell_type": "code",
   "execution_count": 24,
   "metadata": {},
   "outputs": [
    {
     "name": "stdout",
     "output_type": "stream",
     "text": [
      "Sedan: 25 miles per gallon\n",
      "SUV: 18 miles per gallon\n",
      "Electric Car: No fuel consumption\n"
     ]
    }
   ],
   "source": [
    "from abc import ABC, abstractmethod\n",
    "class Car(ABC):\n",
    "    @abstractmethod\n",
    "    def mileage(self):\n",
    "        pass\n",
    "class Sedan(Car):\n",
    "    def mileage(self):\n",
    "        return \"Sedan: 25 km per ltr\"\n",
    "class SUV(Car):\n",
    "    def mileage(self):\n",
    "        return \"SUV: 18 km per ltr\"\n",
    "class ElectricCar(Car):\n",
    "    def mileage(self):\n",
    "        return \"Electric Car: No fuel consumption\"\n",
    "\n",
    "sedan_car = Sedan()\n",
    "suv_car = SUV()\n",
    "electric_car = ElectricCar()\n",
    "\n",
    "print(sedan_car.mileage())\n",
    "print(suv_car.mileage())\n",
    "print(electric_car.mileage())\n"
   ]
  },
  {
   "cell_type": "code",
   "execution_count": null,
   "metadata": {},
   "outputs": [],
   "source": []
  }
 ],
 "metadata": {
  "kernelspec": {
   "display_name": "Python 3",
   "language": "python",
   "name": "python3"
  },
  "language_info": {
   "codemirror_mode": {
    "name": "ipython",
    "version": 3
   },
   "file_extension": ".py",
   "mimetype": "text/x-python",
   "name": "python",
   "nbconvert_exporter": "python",
   "pygments_lexer": "ipython3",
   "version": "3.12.0"
  }
 },
 "nbformat": 4,
 "nbformat_minor": 2
}
